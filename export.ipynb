{
 "cells": [
  {
   "cell_type": "code",
   "execution_count": 1,
   "metadata": {},
   "outputs": [],
   "source": [
    "from pathlib import Path\n",
    "from dicomexport.dcm_io import read_dicom_file\n",
    "import zipfile\n",
    "from tqdm.notebook import tqdm\n",
    "import shutil\n",
    "import warnings\n",
    "\n",
    "warnings.filterwarnings(\"ignore\")\n"
   ]
  },
  {
   "cell_type": "code",
   "execution_count": null,
   "metadata": {},
   "outputs": [],
   "source": [
    "root = Path(\"DCM/\")  # Folder that contains all the zip files\n",
    "output = Path(\"output\")  # Folder where the extracted files will be saved"
   ]
  },
  {
   "cell_type": "code",
   "execution_count": 2,
   "metadata": {},
   "outputs": [
    {
     "name": "stdout",
     "output_type": "stream",
     "text": [
      "Extracting zips\n"
     ]
    },
    {
     "data": {
      "application/vnd.jupyter.widget-view+json": {
       "model_id": "077e527dff3b4a58acf669652ff70b14",
       "version_major": 2,
       "version_minor": 0
      },
      "text/plain": [
       "0it [00:00, ?it/s]"
      ]
     },
     "metadata": {},
     "output_type": "display_data"
    },
    {
     "name": "stdout",
     "output_type": "stream",
     "text": [
      "Reading dicom files\n"
     ]
    },
    {
     "data": {
      "application/vnd.jupyter.widget-view+json": {
       "model_id": "8e6a62340ea34c52a4c9f4ef02f1bbfc",
       "version_major": 2,
       "version_minor": 0
      },
      "text/plain": [
       "0it [00:00, ?it/s]"
      ]
     },
     "metadata": {},
     "output_type": "display_data"
    },
    {
     "name": "stdout",
     "output_type": "stream",
     "text": [
      "Finding best matches\n"
     ]
    },
    {
     "data": {
      "application/vnd.jupyter.widget-view+json": {
       "model_id": "42420d6ee4d34afe979cbb270debb210",
       "version_major": 2,
       "version_minor": 0
      },
      "text/plain": [
       "0it [00:00, ?it/s]"
      ]
     },
     "metadata": {},
     "output_type": "display_data"
    },
    {
     "name": "stdout",
     "output_type": "stream",
     "text": [
      "Cleaning up\n"
     ]
    }
   ],
   "source": [
    "temp = Path(\"temp\")\n",
    "temp.mkdir(exist_ok=True)\n",
    "output.mkdir(exist_ok=True)\n",
    "all_zips = root.glob(\"*.zip\")\n",
    "\n",
    "print(\"Extracting zips\")\n",
    "for dcm_zip in tqdm(all_zips):\n",
    "    with zipfile.ZipFile(dcm_zip, \"r\") as zip_ref:\n",
    "        zip_ref.extractall(temp / \"unzip\" / dcm_zip.stem)\n",
    "\n",
    "print(\"Reading dicom files\")\n",
    "\n",
    "for patient_folder in tqdm((temp / \"unzip\").glob(\"*\")):\n",
    "    folder = patient_folder / \"DataFiles\"\n",
    "    patient_id = None\n",
    "    laterality = None\n",
    "    date = None\n",
    "    for f in folder.iterdir():\n",
    "        if f.is_dir():\n",
    "            for file in f.iterdir():\n",
    "                if file.is_file():\n",
    "                    try:\n",
    "                        laterality, date, patient_id = read_dicom_file(\n",
    "                            file,\n",
    "                            patientId=patient_id,\n",
    "                            laterality=laterality,\n",
    "                            date=date,\n",
    "                            output_folder=temp / \"extracted\",\n",
    "                        )\n",
    "                    except Exception as e:\n",
    "                        pass\n",
    "\n",
    "print(\"Finding best matches\")\n",
    "matches = []\n",
    "for d in tqdm((temp / \"extracted\").rglob(\"*.png\")):\n",
    "    parent_folder = d.parent\n",
    "    if parent_folder in matches:\n",
    "        continue\n",
    "    size_folder = len(list(parent_folder.glob(\"*.png\")))\n",
    "    if size_folder == 128:\n",
    "        metadata = str(d).split(\"/\")\n",
    "        patientId = metadata[2]\n",
    "        date = metadata[3]\n",
    "        laterality = metadata[4]\n",
    "\n",
    "        out = output / patientId / date / laterality\n",
    "        out.mkdir(parents=True, exist_ok=True)\n",
    "        for img in parent_folder.glob(\"*.png\"):\n",
    "            shutil.copy(img, out / img.name)\n",
    "\n",
    "        matches.append(parent_folder)\n",
    "\n",
    "\n",
    "print(\"Cleaning up\")\n",
    "shutil.rmtree(temp)"
   ]
  },
  {
   "cell_type": "code",
   "execution_count": null,
   "metadata": {},
   "outputs": [],
   "source": []
  },
  {
   "cell_type": "code",
   "execution_count": null,
   "metadata": {},
   "outputs": [],
   "source": []
  }
 ],
 "metadata": {
  "kernelspec": {
   "display_name": "dl",
   "language": "python",
   "name": "python3"
  },
  "language_info": {
   "codemirror_mode": {
    "name": "ipython",
    "version": 3
   },
   "file_extension": ".py",
   "mimetype": "text/x-python",
   "name": "python",
   "nbconvert_exporter": "python",
   "pygments_lexer": "ipython3",
   "version": "3.11.9"
  }
 },
 "nbformat": 4,
 "nbformat_minor": 2
}
